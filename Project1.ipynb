{
 "cells": [
  {
   "cell_type": "markdown",
   "metadata": {},
   "source": [
    "Predict the number of unit sales given an amount of money spent on radio advertising"
   ]
  },
  {
   "cell_type": "code",
   "execution_count": 97,
   "metadata": {},
   "outputs": [
    {
     "name": "stdout",
     "output_type": "stream",
     "text": [
      "Score (Coefficient of determination of the prediction):  0.33203245544529536\n",
      "Coefficien (w):  [0.20249578]\n",
      "Intercept (b):  9.311638095158285\n",
      "Predicted Sales: 13.969041113184396\n"
     ]
    }
   ],
   "source": [
    "import pandas as pd\n",
    "from sklearn.linear_model import LinearRegression\n",
    "import numpy as np\n",
    "\n",
    "df = pd.read_csv('Advertising.csv')\n",
    "x_arr = df[\"radio\"].to_numpy()\n",
    "y_arr = df[\"sales\"].to_numpy()\n",
    "x_arr = x_arr.reshape(-1,1)\n",
    "\n",
    "#print('X', x_arr)\n",
    "#print('Y', y_arr)\n",
    "\n",
    "# Linear Regression model\n",
    "Lin_regression = LinearRegression().fit(x_arr,y_arr)        \n",
    "print('Score (Coefficient of determination of the prediction): ',Lin_regression.score(x_arr,y_arr))\n",
    "\n",
    "estimated_sales = Lin_regression.predict([[23]])\n",
    "\n",
    "print('Coefficient (w): ', Lin_regression.coef_)\n",
    "print('Intercept (b): ', Lin_regression.intercept_)\n",
    "print(\"Predicted Sales:\", estimated_sales[0])"
   ]
  },
  {
   "cell_type": "code",
   "execution_count": null,
   "metadata": {},
   "outputs": [],
   "source": []
  },
  {
   "cell_type": "markdown",
   "metadata": {},
   "source": []
  },
  {
   "cell_type": "markdown",
   "metadata": {},
   "source": [
    "In the example:\n",
    "• alpha: 0.001\n",
    "• epoch: 15000 loss: 18.092398515918592\n",
    "• w, b: 0.20254581129464883 9.310003218435126\n",
    "\n",
    "Where w is the slope, in this case the coefficient."
   ]
  },
  {
   "cell_type": "markdown",
   "metadata": {},
   "source": [
    "Predict the presence of cancer based on the processed medical image data in the breast cancer dataset"
   ]
  },
  {
   "cell_type": "code",
   "execution_count": 137,
   "metadata": {},
   "outputs": [
    {
     "name": "stdout",
     "output_type": "stream",
     "text": [
      "Two Best:\n",
      "Seed:  100003\n",
      "Features:  ['mean radius' 'worst perimeter' 'concave points error'\n",
      " 'compactness error']\n",
      "Score:  0.9402460456942003\n",
      "Seed:  100002\n",
      "Features:  ['worst symmetry' 'worst radius' 'symmetry error' 'perimeter error']\n",
      "Score:  0.9209138840070299\n",
      "\n",
      "Two Worst:\n",
      "Seed:  100009\n",
      "Features:  ['smoothness error' 'concave points error' 'mean compactness'\n",
      " 'mean smoothness']\n",
      "Score:  0.6942003514938488\n",
      "Seed:  100008\n",
      "Features:  ['worst fractal dimension' 'compactness error' 'radius error'\n",
      " 'mean fractal dimension']\n",
      "Score:  0.8031634446397188\n"
     ]
    }
   ],
   "source": [
    "from sklearn.datasets import load_breast_cancer\n",
    "from sklearn.linear_model import LogisticRegression\n",
    "import numpy as np\n",
    "\n",
    "results = []\n",
    "\n",
    "cancer = load_breast_cancer()                                   # loading the breast cancer data\n",
    "#print(cancer.feature_names)\n",
    "\n",
    "for seed in range(100000, 100010):\n",
    "\n",
    "    #print('Seed value: ', seed)\n",
    "    rng = np.random.default_rng(seed)                               # random number generator\n",
    "    idx_feat = (np.floor(30*rng.uniform(size=4))).astype(int)       # randomly select 4 features\n",
    "    X = cancer[\"data\"][:,idx_feat]                                  # load 2D array of selected features\n",
    "    y = cancer[\"target\"]                                            # load classification labels (0 = malignant tumour; 1 = benign tumor)\n",
    "    Log_regression = LogisticRegression().fit(X, y)                 # Logistic Regression model\n",
    "\n",
    "    # Model accuracy\n",
    "    score = Log_regression.score(X, y)\n",
    "    #print('Feature names: ',X)\n",
    "    #print('Score: ', score)\n",
    "\n",
    "    results.append((seed, cancer.feature_names[idx_feat], score))\n",
    "\n",
    "#print(results)                              # Print to debug code\n",
    "results.sort(key=lambda score: score[2])    # Sort by score, the score index is 2\n",
    "\n",
    "# Extract the two best and two worst combinations\n",
    "two_best = results[-2:]  # Last two entries have highest scores\n",
    "two_best.sort(reverse=True)\n",
    "two_worst = results[:2]  # First two entries have lowest scores\n",
    "\n",
    "print('Two Best:')\n",
    "for result in two_best:\n",
    "    seed, features, score = result\n",
    "    print('Seed: ', seed)\n",
    "    print('Features: ', features)\n",
    "    print('Score: ', score) \n",
    "\n",
    "print()\n",
    "print('Two Worst:')\n",
    "for result in  two_worst:\n",
    "    seed, features, score = result\n",
    "    print('Seed: ', seed)\n",
    "    print('Features: ', features)\n",
    "    print('Score: ', score) "
   ]
  },
  {
   "cell_type": "markdown",
   "metadata": {},
   "source": [
    "Adding more features (8 for example)"
   ]
  },
  {
   "cell_type": "code",
   "execution_count": 122,
   "metadata": {},
   "outputs": [
    {
     "name": "stdout",
     "output_type": "stream",
     "text": [
      "Seed:  100006\n",
      "Features:  ['symmetry error' 'concave points error' 'mean concavity'\n",
      " 'worst perimeter' 'perimeter error' 'worst area' 'compactness error'\n",
      " 'mean concavity']\n",
      "Score:  0.9244288224956063\n",
      "Seed:  100003\n",
      "Features:  ['mean radius' 'worst perimeter' 'concave points error'\n",
      " 'compactness error' 'fractal dimension error' 'concavity error'\n",
      " 'worst area' 'symmetry error']\n",
      "Score:  0.9402460456942003\n",
      "Seed:  100009\n",
      "Features:  ['smoothness error' 'concave points error' 'mean compactness'\n",
      " 'mean smoothness' 'mean fractal dimension' 'mean symmetry'\n",
      " 'mean fractal dimension' 'worst symmetry']\n",
      "Score:  0.7346221441124781\n",
      "Seed:  100001\n",
      "Features:  ['worst compactness' 'worst concavity' 'mean texture' 'mean compactness'\n",
      " 'mean concavity' 'mean fractal dimension' 'compactness error'\n",
      " 'texture error']\n",
      "Score:  0.8453427065026362\n"
     ]
    }
   ],
   "source": [
    "from sklearn.datasets import load_breast_cancer\n",
    "from sklearn.linear_model import LogisticRegression\n",
    "import numpy as np\n",
    "\n",
    "results = []\n",
    "\n",
    "for seed in range(100000, 100010):\n",
    "\n",
    "    #print('Seed value: ', seed)\n",
    "    rng = np.random.default_rng(seed)                               # random number generator\n",
    "    idx_feat = (np.floor(30*rng.uniform(size=8))).astype(int)      # randomly select 4 features\n",
    "    cancer = load_breast_cancer()                                   # loading the breast cancer data\n",
    "    X = cancer[\"data\"][:,idx_feat]                                  # load \n",
    "    y = cancer[\"target\"]                                            # load classification labels (0 = malignant tumour: 1 = benign tumor)\n",
    "    Log_regression = LogisticRegression(max_iter=10000, solver='lbfgs').fit(X, y)   # Logistic Regression model (limited to 10000 iterations for conversion)\n",
    "\n",
    "    # Model accuracy\n",
    "    score = Log_regression.score(X, y)\n",
    "    #print('Feature names: ',X)\n",
    "    #print('Score: ', score)\n",
    "\n",
    "    results.append((seed, cancer[\"feature_names\"][idx_feat], score))\n",
    "\n",
    "#print(results)                              # Print to debug code\n",
    "results.sort(key=lambda score: score[2])    # Sort by score, the score index is 2\n",
    "\n",
    "#print(results)\n",
    "# Extract the two best and two worst combinations\n",
    "two_best = results[-2:]  # Last two entries have highest scores\n",
    "two_best.sort(reverse=True)\n",
    "two_worst = results[:2]  # First two entries have lowest scores\n",
    "\n",
    "for result in two_best + two_worst:\n",
    "    seed, features, score = result\n",
    "    print('Seed: ', seed)\n",
    "    print('Features: ', features)\n",
    "    print('Score: ', score) "
   ]
  },
  {
   "cell_type": "markdown",
   "metadata": {},
   "source": [
    "Predict diabetes progression"
   ]
  },
  {
   "cell_type": "code",
   "execution_count": 145,
   "metadata": {},
   "outputs": [
    {
     "name": "stdout",
     "output_type": "stream",
     "text": [
      "Two Best:\n",
      "Seed:  100008\n",
      "Features:  ['s6', 's2', 'bp', 'bp']\n",
      "Score:  1.0\n",
      "Seed:  100007\n",
      "Features:  ['bmi', 's6', 'age', 'bmi']\n",
      "Score:  1.0\n",
      "\n",
      "Two Worst:\n",
      "Seed:  100004\n",
      "Features:  ['age', 's3', 'age', 's3']\n",
      "Score:  0.9224163008676227\n",
      "Seed:  100001\n",
      "Features:  ['s5', 's5', 'age', 'sex']\n",
      "Score:  0.9920437133142372\n"
     ]
    }
   ],
   "source": [
    "from sklearn.datasets import load_diabetes\n",
    "from sklearn.tree import DecisionTreeRegressor\n",
    "import numpy as np\n",
    "\n",
    "results = []\n",
    "\n",
    "diabetes = load_diabetes()                                      # loading the diabetes data\n",
    "#print(diabetes.DESCR)\n",
    "#print(diabetes.feature_names)\n",
    "\n",
    "for seed in range(100000, 100010):\n",
    "\n",
    "    #print('Seed value: ', seed)\n",
    "    rng = np.random.default_rng(seed)                               # random number generator\n",
    "    idx_feat = (np.floor(10*rng.uniform(size=4))).astype(int)       # randomly select 4 features, in this dataset there are 10 features in total\n",
    "    #print(idx_feat)\n",
    "    X = diabetes[\"data\"][:,idx_feat]                                # load selected features data \n",
    "    y = diabetes[\"target\"]                                          # load classification labels (0 = malignant tumour: 1 = benign tumor)\n",
    "    DTR_algorithm = DecisionTreeRegressor().fit(X, y)               # Logistic Regression model\n",
    "\n",
    "    # Model accuracy\n",
    "    score = DTR_algorithm.score(X, y)\n",
    "    #print('Feature names: ',X)\n",
    "    #print('Score: ', score)\n",
    "    \n",
    "    f_names = []\n",
    "    for i in idx_feat:\n",
    "        f_names.append(diabetes.feature_names[i])\n",
    "\n",
    "    results.append((seed, f_names, score))\n",
    "\n",
    "#print(results)                              # Print to debug code\n",
    "results.sort(key=lambda score: score[2])    # Sort by score, the score index is 2\n",
    "\n",
    "# Extract the two best and two worst combinations\n",
    "two_best = results[-2:]  # Last two entries have highest scores\n",
    "two_best.sort(reverse=True)\n",
    "two_worst = results[:2]  # First two entries have lowest scores\n",
    "\n",
    "\n",
    "print('Two Best:')\n",
    "for result in two_best:\n",
    "    seed, features, score = result\n",
    "    print('Seed: ', seed)\n",
    "    print('Features: ', features)\n",
    "    print('Score: ', score) \n",
    "\n",
    "print()\n",
    "print('Two Worst:')\n",
    "for result in  two_worst:\n",
    "    seed, features, score = result\n",
    "    print('Seed: ', seed)\n",
    "    print('Features: ', features)\n",
    "    print('Score: ', score)"
   ]
  },
  {
   "cell_type": "markdown",
   "metadata": {},
   "source": [
    "SVM"
   ]
  },
  {
   "cell_type": "code",
   "execution_count": 142,
   "metadata": {},
   "outputs": [
    {
     "name": "stdout",
     "output_type": "stream",
     "text": [
      "Two Best:\n",
      "Seed:  100002\n",
      "Features:  ['worst symmetry' 'worst radius' 'symmetry error' 'perimeter error']\n",
      "Score:  0.9420035149384886\n",
      "Seed:  100003\n",
      "Features:  ['mean radius' 'worst perimeter' 'concave points error'\n",
      " 'compactness error']\n",
      "Score:  0.9402460456942003\n",
      "\n",
      "Two Worst:\n",
      "Seed:  100009\n",
      "Features:  ['smoothness error' 'concave points error' 'mean compactness'\n",
      " 'mean smoothness']\n",
      "Score:  0.7750439367311072\n",
      "Seed:  100008\n",
      "Features:  ['worst fractal dimension' 'compactness error' 'radius error'\n",
      " 'mean fractal dimension']\n",
      "Score:  0.8084358523725835\n"
     ]
    }
   ],
   "source": [
    "from sklearn.datasets import load_breast_cancer\n",
    "from sklearn.svm import LinearSVC\n",
    "import numpy as np\n",
    "\n",
    "results = []\n",
    "\n",
    "cancer = load_breast_cancer()                                       # loading the breast cancer data\n",
    "#print(cancer.feature_names)\n",
    "\n",
    "for seed in range(100000, 100010):\n",
    "\n",
    "    #print('Seed value: ', seed)\n",
    "    rng = np.random.default_rng(seed)                               # random number generator\n",
    "    idx_feat = (np.floor(30*rng.uniform(size=4))).astype(int)       # randomly select 4 features\n",
    "    X = cancer[\"data\"][:,idx_feat]                                  # load 2D array of selected features\n",
    "    y = cancer[\"target\"]                                            # load classification labels (0 = malignant tumour: 1 = benign tumor)\n",
    "    l_SVC = LinearSVC(max_iter=10000, dual=False, random_state=seed).fit(X, y)                 # Logistic Regression model\n",
    "\n",
    "    # Model accuracy\n",
    "    score = l_SVC.score(X, y)\n",
    "\n",
    "    results.append((seed, cancer.feature_names[idx_feat], score))\n",
    "\n",
    "#print(results)                              # Print to debug code\n",
    "results.sort(key=lambda score: score[2])    # Sort by score, the score index is 2\n",
    "\n",
    "# Extract the two best and two worst combinations\n",
    "two_best = results[-2:]  # Last two entries have highest scores\n",
    "two_best.sort(reverse=False)\n",
    "two_worst = results[:2]  # First two entries have lowest scores\n",
    "\n",
    "print('Two Best:')\n",
    "for result in two_best:\n",
    "    seed, features, score = result\n",
    "    print('Seed: ', seed)\n",
    "    print('Features: ', features)\n",
    "    print('Score: ', score) \n",
    "\n",
    "print()\n",
    "print('Two Worst:')\n",
    "for result in  two_worst:\n",
    "    seed, features, score = result\n",
    "    print('Seed: ', seed)\n",
    "    print('Features: ', features)\n",
    "    print('Score: ', score)"
   ]
  },
  {
   "cell_type": "markdown",
   "metadata": {},
   "source": [
    "Nearest Neighbors"
   ]
  },
  {
   "cell_type": "code",
   "execution_count": 153,
   "metadata": {},
   "outputs": [
    {
     "name": "stdout",
     "output_type": "stream",
     "text": [
      "Two Best:\n",
      "Seed:  100006\n",
      "Features:  ['s3', 's2', 'bmi', 's4']\n",
      "Score:  0.5467014178150216\n",
      "Seed:  100000\n",
      "Features:  ['sex', 's1', 's6', 's5']\n",
      "Score:  0.5056316180205515\n",
      "\n",
      "Two Worst:\n",
      "Seed:  100009\n",
      "Features:  ['s1', 's2', 'sex', 'sex']\n",
      "Score:  0.2890811013860536\n",
      "Seed:  100004\n",
      "Features:  ['age', 's3', 'age', 's3']\n",
      "Score:  0.3114362314974928\n"
     ]
    }
   ],
   "source": [
    "from sklearn.datasets import load_diabetes\n",
    "from sklearn.neighbors import KNeighborsRegressor\n",
    "import numpy as np\n",
    "\n",
    "results = []\n",
    "\n",
    "diabetes = load_diabetes()                                      # loading the diabetes data\n",
    "#print(diabetes.feature_names)\n",
    "\n",
    "for seed in range(100000, 100010):\n",
    "\n",
    "    rng = np.random.default_rng(seed)                               # random number generator\n",
    "    idx_feat = (np.floor(10*rng.uniform(size=4))).astype(int)       # randomly select 4 features, in this dataset there are 10 features in total\n",
    "    X = diabetes[\"data\"][:,idx_feat]                                # load selected features data\n",
    "    y = diabetes[\"target\"]                                          # load classification labels (0 = malignant tumour: 1 = benign tumor)\n",
    "    kNN_algorithm = KNeighborsRegressor().fit(X, y)                  # KNeighbors Regression model\n",
    "\n",
    "    # Model accuracy\n",
    "    score = kNN_algorithm.score(X, y)\n",
    "    #print('Feature names: ',X)\n",
    "    #print('Score: ', score)\n",
    "    \n",
    "    f_names = []\n",
    "    for i in idx_feat:\n",
    "        f_names.append(diabetes.feature_names[i])\n",
    "\n",
    "    results.append((seed, f_names, score))\n",
    "\n",
    "#print(results)                              # Print to debug code\n",
    "results.sort(key=lambda score: score[2])    # Sort by score, the score index is 2\n",
    "\n",
    "# Extract the two best and two worst combinations\n",
    "two_best = results[-2:]  # Last two entries have highest scores\n",
    "two_best.sort(reverse=True)\n",
    "two_worst = results[:2]  # First two entries have lowest scores\n",
    "\n",
    "print('Two Best:')\n",
    "for result in two_best:\n",
    "    seed, features, score = result\n",
    "    print('Seed: ', seed)\n",
    "    print('Features: ', features)\n",
    "    print('Score: ', score) \n",
    "\n",
    "print()\n",
    "print('Two Worst:')\n",
    "for result in  two_worst:\n",
    "    seed, features, score = result\n",
    "    print('Seed: ', seed)\n",
    "    print('Features: ', features)\n",
    "    print('Score: ', score)"
   ]
  }
 ],
 "metadata": {
  "kernelspec": {
   "display_name": "base",
   "language": "python",
   "name": "python3"
  },
  "language_info": {
   "codemirror_mode": {
    "name": "ipython",
    "version": 3
   },
   "file_extension": ".py",
   "mimetype": "text/x-python",
   "name": "python",
   "nbconvert_exporter": "python",
   "pygments_lexer": "ipython3",
   "version": "3.11.5"
  }
 },
 "nbformat": 4,
 "nbformat_minor": 2
}
